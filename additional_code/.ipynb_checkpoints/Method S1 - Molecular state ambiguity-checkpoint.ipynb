{
 "cells": [
  {
   "cell_type": "markdown",
   "metadata": {},
   "source": [
    "# Supplementary Fig. SX\n",
    "\n",
    "Please refer to Method S1."
   ]
  },
  {
   "cell_type": "code",
   "execution_count": 9,
   "metadata": {},
   "outputs": [],
   "source": [
    "import os\n",
    "\n",
    "from pyboolnet.file_exchange import bnet2primes, primes2bnet\n",
    "from pyboolnet.interaction_graphs import primes2igraph\n",
    "\n",
    "from modules.frustration import computeFusingT_updated"
   ]
  },
  {
   "cell_type": "code",
   "execution_count": 3,
   "metadata": {},
   "outputs": [],
   "source": [
    "network_dir = './network/'\n",
    "model_file = network_dir + 'toy_Network.bnet'\n",
    "primes = bnet2primes(model_file)\n",
    "nodeList = list(primes.keys())\n",
    "graph = primes2igraph(primes)"
   ]
  },
  {
   "cell_type": "code",
   "execution_count": 4,
   "metadata": {},
   "outputs": [],
   "source": [
    "save_dir = './Result/' \n",
    "if save_dir.split('/')[1] not in os.listdir(): os.mkdir(save_dir)"
   ]
  },
  {
   "cell_type": "code",
   "execution_count": null,
   "metadata": {},
   "outputs": [],
   "source": [
    "### compute 'molecular state ambiguity' by calculating the ratio of frustrated_edge"
   ]
  },
  {
   "cell_type": "code",
   "execution_count": 5,
   "metadata": {},
   "outputs": [],
   "source": [
    "allsingles = [{n:1} for n in nodeList] + [{n:0} for n in nodeList]\n",
    "fix_dict = {'Input':0}\n",
    "ctrl = {'Input':0}\n",
    "#computeFusingT_updated(allsingles, fix_dict, ctrl, primes, model_file, save_dir+'toyOFF_single')    "
   ]
  },
  {
   "cell_type": "code",
   "execution_count": 6,
   "metadata": {},
   "outputs": [],
   "source": [
    "# draw truth table \n",
    "import copy\n",
    "import pandas as pd\n",
    "import numpy as np\n",
    "from collections import defaultdict\n",
    "import networkx as nx\n",
    "import itertools\n",
    "\n",
    "def prime2T(Adj, primes, node): \n",
    "    allnodes = [nodeList[x] for x in np.where(Adj[:,nodeList.index(node)].toarray().T[0]!=0)[0]]\n",
    "    prime0 = primes[node][0]    \n",
    "    newprime0 = []\n",
    "    for p0 in prime0:\n",
    "        fixedtmp = p0       \n",
    "        wcname = list(set(allnodes)-set(fixedtmp.keys()))\n",
    "        if len(wcname)>0:\n",
    "            states = [{x:int(y) for x,y in zip(wcname, get_bin(w, len(wcname)))} for w in range(2**len(wcname))]\n",
    "            for sts in states:\n",
    "                fixedtmps = copy.deepcopy(fixedtmp)\n",
    "                fixedtmps.update(sts)\n",
    "                newprime0.append(dict(sorted(fixedtmps.items())))                \n",
    "        else: newprime0.append(dict(sorted(fixedtmp.items())))\n",
    "\n",
    "    prime1 = primes[node][1]  \n",
    "    newprime1 = []\n",
    "    for p1 in prime1:\n",
    "        fixedtmp = p1       \n",
    "        wcname = list(set(allnodes)-set(fixedtmp.keys()))\n",
    "        if len(wcname)>0:\n",
    "            states = [{x:int(y) for x,y in zip(wcname, get_bin(w, len(wcname)))} for w in range(2**len(wcname))]\n",
    "            for sts in states:\n",
    "                fixedtmps = copy.deepcopy(fixedtmp)\n",
    "                fixedtmps.update(sts)\n",
    "                newprime1.append(dict(sorted(fixedtmps.items())))                \n",
    "        else: newprime1.append(dict(sorted(fixedtmp.items())))\n",
    "\n",
    "    newprime0 = list(map(dict, set(tuple(sorted(d.items())) for d in newprime0)))\n",
    "    newprime1 = list(map(dict, set(tuple(sorted(d.items())) for d in newprime1)))\n",
    "\n",
    "    return {node:[newprime0, newprime1]}\n",
    "\n",
    "# make new trtuh table using reduced_prime after perturbation(s) \n",
    "def reducedprime2T(Adj, reduced_prime, node): \n",
    "    allnodes = [nodeList[x] for x in np.where(Adj[:,nodeList.index(node)].toarray().T[0]!=0)[0]]\n",
    "    fixed = {x:[0 if y==-1 else y][0] for x,y in fix_dict_reduced.items() if x in allnodes}                \n",
    "    prime0 = reduced_prime[node][0]    \n",
    "    newprime0 = []\n",
    "    for p0 in prime0:\n",
    "        fixedtmp = copy.deepcopy(fixed)\n",
    "        fixedtmp.update(p0)       \n",
    "        wcname = list(set(allnodes)-set(fixedtmp.keys()))\n",
    "        if len(wcname)>0:\n",
    "            states = [{x:int(y) for x,y in zip(wcname, get_bin(w, len(wcname)))} for w in range(2**len(wcname))]\n",
    "            for sts in states:\n",
    "                fixedtmps = copy.deepcopy(fixedtmp)\n",
    "                fixedtmps.update(sts)\n",
    "                newprime0.append(dict(sorted(fixedtmps.items())))                \n",
    "        else: newprime0.append(dict(sorted(fixedtmp.items())))\n",
    "\n",
    "    prime1 = reduced_prime[node][1]  \n",
    "    newprime1 = []\n",
    "    for p1 in prime1:\n",
    "        fixedtmp = copy.deepcopy(fixed)\n",
    "        fixedtmp.update(p1)       \n",
    "        wcname = list(set(allnodes)-set(fixedtmp.keys()))\n",
    "        if len(wcname)>0:\n",
    "            states = [{x:int(y) for x,y in zip(wcname, get_bin(w, len(wcname)))} for w in range(2**len(wcname))]\n",
    "            for sts in states:\n",
    "                fixedtmps = copy.deepcopy(fixedtmp)\n",
    "                fixedtmps.update(sts)\n",
    "                newprime1.append(dict(sorted(fixedtmps.items())))                \n",
    "        else: newprime1.append(dict(sorted(fixedtmp.items())))\n",
    "\n",
    "    newprime0 = list(map(dict, set(tuple(sorted(d.items())) for d in newprime0)))\n",
    "    newprime1 = list(map(dict, set(tuple(sorted(d.items())) for d in newprime1)))\n",
    "\n",
    "    return {node:[newprime0, newprime1]}\n",
    "        \n",
    "        \n",
    "def drawT(node):\n",
    "    ori = prime2T(Adj, primes, node)\n",
    "    for idx, x in enumerate(ori[node]): [y.update({node:idx}) for y in x]\n",
    "\n",
    "    if node in resN:\n",
    "        new = reducedprime2T(Adj, reduced_prime, node)    \n",
    "        for idx, x in enumerate(new[node]): [y.update({node:idx}) for y in x]\n",
    "        print('node:',node)\n",
    "        print('# == original truth table == #')\n",
    "        print(list(itertools.chain(*ori[node])))\n",
    "        print('# == new truth table == #')\n",
    "        print(list(itertools.chain(*new[node])))\n",
    "\n",
    "    elif node in fixN:\n",
    "        new = {node:fix_dict_reduced[node]}\n",
    "        for source in [nodeList[x] for x in np.where((Adj[:,nodeList.index(node)].toarray().T[0] != 0))[0]]:\n",
    "            new.update({source:fix_dict_reduced[source]})\n",
    "        print('node:',node)\n",
    "        print('# == original truth table == #')\n",
    "        print(list(itertools.chain(*ori[node])))\n",
    "        print('# == new truth table == #')\n",
    "        print(new)\n",
    "\n",
    "    else: # node in set(nodeList)-set(fixN)-set(resN)\n",
    "        print('node:',node)\n",
    "        print('pass')\n",
    "\n",
    "    "
   ]
  },
  {
   "cell_type": "code",
   "execution_count": 7,
   "metadata": {},
   "outputs": [],
   "source": [
    "from modules.frustration import splitG, reduce_primes, get_bin\n",
    "import copy\n",
    "\n",
    "perturbs = {'Input':0}\n",
    "\n",
    "fix_dict_tmp = copy.deepcopy(fix_dict)\n",
    "fix_dict_tmp.update(perturbs)\n",
    "reduced_prime, fix_dict_reduced, _ = reduce_primes(primes, fix_dict_tmp)\n",
    "fix_dict_reduced = {x:[-1 if y==0 else 1][0] for x,y in fix_dict_reduced.items()} # for computing frustrated edge\n",
    "fixed_nodes = set(fix_dict_reduced.keys())\n",
    "Adj, graph, fixed_graph, residual_graph = splitG(primes, fixed_nodes) # The residual_graph consists of edges which are not affected by perturbation\n",
    "\n",
    "resN = set(reduced_prime.keys()) \n",
    "res_fixN = set(residual_graph.nodes)- set(reduced_prime.keys())\n",
    "fixN = set(fixed_graph.nodes) - res_fixN #fixed_graph\n",
    "nodeList = list(primes.keys())"
   ]
  },
  {
   "cell_type": "code",
   "execution_count": 8,
   "metadata": {},
   "outputs": [
    {
     "name": "stdout",
     "output_type": "stream",
     "text": [
      "node: n4\n",
      "# == original truth table == #\n",
      "[{'Input': 0, 'n3': 1, 'n8': 1, 'n4': 0}, {'Input': 0, 'n3': 1, 'n8': 0, 'n4': 0}, {'Input': 1, 'n3': 1, 'n8': 0, 'n4': 0}, {'Input': 0, 'n3': 0, 'n8': 0, 'n4': 1}, {'Input': 1, 'n3': 0, 'n8': 1, 'n4': 1}, {'Input': 1, 'n3': 0, 'n8': 0, 'n4': 1}, {'Input': 1, 'n3': 1, 'n8': 1, 'n4': 1}, {'Input': 0, 'n3': 0, 'n8': 1, 'n4': 1}]\n",
      "# == new truth table == #\n",
      "[{'Input': 0, 'n3': 1, 'n8': 1, 'n4': 0}, {'Input': 0, 'n3': 1, 'n8': 0, 'n4': 0}, {'Input': 0, 'n3': 0, 'n8': 1, 'n4': 1}, {'Input': 0, 'n3': 0, 'n8': 0, 'n4': 1}]\n"
     ]
    }
   ],
   "source": [
    "drawT('n4')"
   ]
  }
 ],
 "metadata": {
  "kernelspec": {
   "display_name": "Python 3",
   "language": "python",
   "name": "python3"
  },
  "language_info": {
   "codemirror_mode": {
    "name": "ipython",
    "version": 3
   },
   "file_extension": ".py",
   "mimetype": "text/x-python",
   "name": "python",
   "nbconvert_exporter": "python",
   "pygments_lexer": "ipython3",
   "version": "3.7.0"
  }
 },
 "nbformat": 4,
 "nbformat_minor": 2
}
